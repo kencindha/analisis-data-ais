{
 "cells": [
  {
   "cell_type": "markdown",
   "metadata": {},
   "source": [
    "# Masukan library"
   ]
  },
  {
   "cell_type": "code",
   "execution_count": 55,
   "metadata": {},
   "outputs": [],
   "source": [
    "import pandas as pd\n",
    "import math"
   ]
  },
  {
   "cell_type": "markdown",
   "metadata": {},
   "source": [
    "# Masukan data"
   ]
  },
  {
   "cell_type": "code",
   "execution_count": 40,
   "metadata": {},
   "outputs": [],
   "source": [
    "with open(\"result.txt\", \"r\") as file:\n",
    "    data = file.read()"
   ]
  },
  {
   "cell_type": "markdown",
   "metadata": {},
   "source": [
    "# Ubah data jadi tabel"
   ]
  },
  {
   "cell_type": "code",
   "execution_count": 41,
   "metadata": {},
   "outputs": [],
   "source": [
    "data_blocks = data.strip().split(\"===\")\n",
    "data_dicts = []"
   ]
  },
  {
   "cell_type": "code",
   "execution_count": 43,
   "metadata": {},
   "outputs": [],
   "source": [
    "for block in data_blocks:\n",
    "    data_entries = block.strip().split(\"\\n\")\n",
    "    data_entry = {}\n",
    "    for entry in data_entries:\n",
    "        parts = entry.split(\": \", 1)\n",
    "        if len(parts) == 2:\n",
    "            key, value = parts\n",
    "            data_entry[key] = value\n",
    "    if data_entry:\n",
    "        data_dicts.append(data_entry)"
   ]
  },
  {
   "cell_type": "markdown",
   "metadata": {},
   "source": [
    "# Jadikan DataFrame"
   ]
  },
  {
   "cell_type": "code",
   "execution_count": 45,
   "metadata": {},
   "outputs": [
    {
     "name": "stdout",
     "output_type": "stream",
     "text": [
      "                          From Data Message Type Repeat Indicator       MMSI  \\\n",
      "0      17ldpHCP007UaLGtWerrOgvJ24ip            1                0  525023329   \n",
      "1      17lobWhP01WU<bctV5Lc5wvB20S7            1                0  525200031   \n",
      "2      17m:0fwP01WU7c=tW1?dNOvB2<5b            1                0  525500603   \n",
      "3      19NSAeh02MWS`satO0I1T1FF20S4            1                0  636015031   \n",
      "4      17liV9`P1KWTtj3tWC94JOvF2L3c            1                0  525100582   \n",
      "...                             ...          ...              ...        ...   \n",
      "23577  17ldIhhP01WU<4StUr?Gc?v:280A            1                0  525015491   \n",
      "23578  176w>502Ae7U>PotbhMCVBf80H3n            1                0  477089300   \n",
      "23579  17ldt9wP00WU=gqtVj9Mbgv:2H3g            1                0  525024295   \n",
      "23580  17mF?uOP01WUN8Ot`kAV@Ov820Rl            1                0  525701109   \n",
      "23581  17m:4:HP01WUdP1tWQUN4?v<2843            1                0  525501481   \n",
      "\n",
      "      Navigation Status Rate of Turn (ROT) Speed Over Ground  \\\n",
      "0                     3                128                 0   \n",
      "1                     0                128                 1   \n",
      "2                    15                128                 1   \n",
      "3                     0                  0               157   \n",
      "4                     0                  5               743   \n",
      "...                 ...                ...               ...   \n",
      "23577                 0                128                 1   \n",
      "23578                 0                  9               109   \n",
      "23579                15                128                 0   \n",
      "23580                15                128                 1   \n",
      "23581                 8                128                 1   \n",
      "\n",
      "      Position Accuracy           Longitude             Latitude  \\\n",
      "0                     0          106.091325            -5.905955   \n",
      "1                     1  105.99310166666666             -5.95053   \n",
      "2                     1  105.97606333333333   -5.925016666666667   \n",
      "3                     1  105.71658333333333    54.18710333333333   \n",
      "4                     1            69.20213            68.680135   \n",
      "...                 ...                 ...                  ...   \n",
      "23577                 1  105.99106833333333   -5.955311666666667   \n",
      "23578                 0          105.999405  -5.8229516666666665   \n",
      "23579                 1  105.99679333333333  -5.9314583333333335   \n",
      "23580                 1  106.05271833333333  -5.5903583333333335   \n",
      "23581                 1           106.10176   -5.911218333333333   \n",
      "\n",
      "      Course Over Ground True Heading Time Stamp Manuver Indicator Spare  \\\n",
      "0                 -141.0          511         13                 0     0   \n",
      "1                 -125.7          511          9                 0     0   \n",
      "2                  -90.3          511          9                 0     0   \n",
      "3                  102.9          203          1                 0     0   \n",
      "4                 -140.9          459          1                 0     7   \n",
      "...                  ...          ...        ...               ...   ...   \n",
      "23577              196.4          511          5                 0     0   \n",
      "23578               92.1           87          4                 0     0   \n",
      "23579              -59.8          511          5                 0     0   \n",
      "23580               12.7          452          1                 0     0   \n",
      "23581              -49.6          511          6                 0     0   \n",
      "\n",
      "      RAIM Flag Radio Status  \n",
      "0             1        19576  \n",
      "1             1         2247  \n",
      "2             1        49514  \n",
      "3             0         2244  \n",
      "4             0          235  \n",
      "...         ...          ...  \n",
      "23577         1        32785  \n",
      "23578         0        98550  \n",
      "23579         1        98543  \n",
      "23580         0         2228  \n",
      "23581         1        33027  \n",
      "\n",
      "[23582 rows x 17 columns]\n"
     ]
    }
   ],
   "source": [
    "df = pd.DataFrame(data_dicts)\n",
    "print(df)"
   ]
  },
  {
   "cell_type": "markdown",
   "metadata": {},
   "source": [
    "# Ambil data yang dibutuhkan "
   ]
  },
  {
   "cell_type": "code",
   "execution_count": 48,
   "metadata": {},
   "outputs": [
    {
     "name": "stdout",
     "output_type": "stream",
     "text": [
      "      Navigation Status       MMSI           Longitude             Latitude\n",
      "0                     3  525023329          106.091325            -5.905955\n",
      "1                     0  525200031  105.99310166666666             -5.95053\n",
      "2                    15  525500603  105.97606333333333   -5.925016666666667\n",
      "3                     0  636015031  105.71658333333333    54.18710333333333\n",
      "4                     0  525100582            69.20213            68.680135\n",
      "...                 ...        ...                 ...                  ...\n",
      "23577                 0  525015491  105.99106833333333   -5.955311666666667\n",
      "23578                 0  477089300          105.999405  -5.8229516666666665\n",
      "23579                15  525024295  105.99679333333333  -5.9314583333333335\n",
      "23580                15  525701109  106.05271833333333  -5.5903583333333335\n",
      "23581                 8  525501481           106.10176   -5.911218333333333\n",
      "\n",
      "[23582 rows x 4 columns]\n"
     ]
    }
   ],
   "source": [
    "data_ais = df[['Navigation Status', 'MMSI', 'Longitude', 'Latitude']]\n",
    "print(data_ais)"
   ]
  },
  {
   "cell_type": "markdown",
   "metadata": {},
   "source": [
    "# Menentukan jumlah duplikat"
   ]
  },
  {
   "cell_type": "code",
   "execution_count": 49,
   "metadata": {},
   "outputs": [
    {
     "name": "stdout",
     "output_type": "stream",
     "text": [
      "432\n"
     ]
    }
   ],
   "source": [
    "jumlah_duplikat = data_ais.duplicated().sum()\n",
    "print(jumlah_duplikat)"
   ]
  },
  {
   "cell_type": "code",
   "execution_count": 52,
   "metadata": {},
   "outputs": [
    {
     "name": "stdout",
     "output_type": "stream",
     "text": [
      "\n",
      "Data Duplikat:\n",
      "      Navigation Status       MMSI           Longitude             Latitude\n",
      "247                   0  525400425  -91.56264166666666   -95.79172166666666\n",
      "319                   8  525014065  106.12566666666666              -5.9445\n",
      "553                   5  525601254  106.11230666666667  -5.9701466666666665\n",
      "628                   8  525014065  106.12532666666667   -5.944166666666667\n",
      "806                   0  525001068  106.10911666666667   -5.975133333333333\n",
      "...                 ...        ...                 ...                  ...\n",
      "23443                 0  525101872  106.11350166666666   -5.963568333333333\n",
      "23465                11  525021328  106.10759166666666             -5.98188\n",
      "23468                 0  525001068            106.1091  -5.9751666666666665\n",
      "23479                15  525006281  106.10261833333334            -5.918525\n",
      "23573                15  525963284  106.11179833333334   -5.981821666666667\n",
      "\n",
      "[432 rows x 4 columns]\n"
     ]
    }
   ],
   "source": [
    "tampilkan_duplikat = data_ais[data_ais.duplicated()]\n",
    "if not tampilkan_duplikat.empty:\n",
    "    print(\"\\nData Duplikat:\")\n",
    "print(tampilkan_duplikat)"
   ]
  },
  {
   "cell_type": "code",
   "execution_count": 53,
   "metadata": {},
   "outputs": [
    {
     "name": "stdout",
     "output_type": "stream",
     "text": [
      "      Navigation Status       MMSI           Longitude             Latitude\n",
      "0                     3  525023329          106.091325            -5.905955\n",
      "1                     0  525200031  105.99310166666666             -5.95053\n",
      "2                    15  525500603  105.97606333333333   -5.925016666666667\n",
      "3                     0  636015031  105.71658333333333    54.18710333333333\n",
      "4                     0  525100582            69.20213            68.680135\n",
      "...                 ...        ...                 ...                  ...\n",
      "23577                 0  525015491  105.99106833333333   -5.955311666666667\n",
      "23578                 0  477089300          105.999405  -5.8229516666666665\n",
      "23579                15  525024295  105.99679333333333  -5.9314583333333335\n",
      "23580                15  525701109  106.05271833333333  -5.5903583333333335\n",
      "23581                 8  525501481           106.10176   -5.911218333333333\n",
      "\n",
      "[23150 rows x 4 columns]\n"
     ]
    }
   ],
   "source": [
    "hapus = data_ais.drop_duplicates()\n",
    "print(hapus)"
   ]
  },
  {
   "cell_type": "markdown",
   "metadata": {},
   "source": [
    "# Jadikan DataFrame"
   ]
  },
  {
   "cell_type": "code",
   "execution_count": 59,
   "metadata": {},
   "outputs": [
    {
     "name": "stdout",
     "output_type": "stream",
     "text": [
      "      Navigation Status       MMSI           Longitude             Latitude\n",
      "0                     3  525023329          106.091325            -5.905955\n",
      "1                     0  525200031  105.99310166666666             -5.95053\n",
      "2                    15  525500603  105.97606333333333   -5.925016666666667\n",
      "3                     0  636015031  105.71658333333333    54.18710333333333\n",
      "4                     0  525100582            69.20213            68.680135\n",
      "...                 ...        ...                 ...                  ...\n",
      "23577                 0  525015491  105.99106833333333   -5.955311666666667\n",
      "23578                 0  477089300          105.999405  -5.8229516666666665\n",
      "23579                15  525024295  105.99679333333333  -5.9314583333333335\n",
      "23580                15  525701109  106.05271833333333  -5.5903583333333335\n",
      "23581                 8  525501481           106.10176   -5.911218333333333\n",
      "\n",
      "[23150 rows x 4 columns]\n"
     ]
    }
   ],
   "source": [
    "df = pd.DataFrame(hapus)\n",
    "print(df)"
   ]
  },
  {
   "cell_type": "markdown",
   "metadata": {},
   "source": [
    "# Simpan data ke excel"
   ]
  },
  {
   "cell_type": "code",
   "execution_count": 60,
   "metadata": {},
   "outputs": [],
   "source": [
    "df.to_excel('final_data.xlsx', index=False)"
   ]
  },
  {
   "cell_type": "code",
   "execution_count": null,
   "metadata": {},
   "outputs": [],
   "source": []
  }
 ],
 "metadata": {
  "kernelspec": {
   "display_name": "Python 3",
   "language": "python",
   "name": "python3"
  },
  "language_info": {
   "codemirror_mode": {
    "name": "ipython",
    "version": 3
   },
   "file_extension": ".py",
   "mimetype": "text/x-python",
   "name": "python",
   "nbconvert_exporter": "python",
   "pygments_lexer": "ipython3",
   "version": "3.12.3"
  }
 },
 "nbformat": 4,
 "nbformat_minor": 2
}
