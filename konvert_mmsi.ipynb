{
 "cells": [
  {
   "cell_type": "markdown",
   "metadata": {},
   "source": [
    "# Masukan library"
   ]
  },
  {
   "cell_type": "code",
   "execution_count": 1,
   "metadata": {},
   "outputs": [],
   "source": [
    "import pandas as pd"
   ]
  },
  {
   "cell_type": "markdown",
   "metadata": {},
   "source": [
    "# Ubah mmsi ke jenis kapal "
   ]
  },
  {
   "cell_type": "code",
   "execution_count": 2,
   "metadata": {},
   "outputs": [],
   "source": [
    "ship_types = {\n",
    "    '00-09': 'Passenger',\n",
    "    '10-19': 'Cargo ',\n",
    "    '20-29': 'Tankers',\n",
    "    '30-39': 'Fishing',\n",
    "    '40-49': 'High-speed craft',\n",
    "    '50-59': 'Pilot',\n",
    "    '60-69': 'Search and rescue vessels',\n",
    "    '70-79': 'Tugs',\n",
    "    '80-89': 'Sailing',\n",
    "    '90-99': 'Other types of vessels'\n",
    "}"
   ]
  },
  {
   "cell_type": "markdown",
   "metadata": {},
   "source": [
    "# Masukan data"
   ]
  },
  {
   "cell_type": "code",
   "execution_count": 14,
   "metadata": {},
   "outputs": [],
   "source": [
    "df = pd.read_excel('final_data.xlsx')"
   ]
  },
  {
   "cell_type": "code",
   "execution_count": 15,
   "metadata": {},
   "outputs": [],
   "source": [
    "def get_ship_type(mmsi):\n",
    "    mmsi_str = str(mmsi)\n",
    "    sid = mmsi_str[3:5]\n",
    "    for key, value in ship_types.items():\n",
    "        if sid in key:\n",
    "            return value\n",
    "    return 'Unknown ship type'"
   ]
  },
  {
   "cell_type": "code",
   "execution_count": 16,
   "metadata": {},
   "outputs": [
    {
     "name": "stdout",
     "output_type": "stream",
     "text": [
      "       Navigation Status       MMSI   Longitude   Latitude          Ship_Type\n",
      "0                      3  525023329  106.091325  -5.905955  Unknown ship type\n",
      "1                      0  525200031  105.993102  -5.950530            Tankers\n",
      "2                     15  525500603  105.976063  -5.925017              Pilot\n",
      "3                      0  636015031  105.716583  54.187103  Unknown ship type\n",
      "4                      0  525100582   69.202130  68.680135             Cargo \n",
      "...                  ...        ...         ...        ...                ...\n",
      "23145                  0  525015491  105.991068  -5.955312  Unknown ship type\n",
      "23146                  0  477089300  105.999405  -5.822952  Unknown ship type\n",
      "23147                 15  525024295  105.996793  -5.931458  Unknown ship type\n",
      "23148                 15  525701109  106.052718  -5.590358               Tugs\n",
      "23149                  8  525501481  106.101760  -5.911218              Pilot\n",
      "\n",
      "[23150 rows x 5 columns]\n"
     ]
    }
   ],
   "source": [
    "df['Ship_Type'] = df['MMSI'].apply(get_ship_type)\n",
    "print(df)"
   ]
  },
  {
   "cell_type": "markdown",
   "metadata": {},
   "source": [
    "# Simpan ke csv"
   ]
  },
  {
   "cell_type": "code",
   "execution_count": 17,
   "metadata": {},
   "outputs": [],
   "source": [
    "df.to_csv('plotting.csv', index=False)"
   ]
  }
 ],
 "metadata": {
  "kernelspec": {
   "display_name": "Python 3",
   "language": "python",
   "name": "python3"
  },
  "language_info": {
   "codemirror_mode": {
    "name": "ipython",
    "version": 3
   },
   "file_extension": ".py",
   "mimetype": "text/x-python",
   "name": "python",
   "nbconvert_exporter": "python",
   "pygments_lexer": "ipython3",
   "version": "3.12.3"
  }
 },
 "nbformat": 4,
 "nbformat_minor": 2
}
