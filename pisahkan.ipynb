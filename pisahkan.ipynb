{
 "cells": [
  {
   "cell_type": "markdown",
   "metadata": {},
   "source": [
    "# Memasukan library"
   ]
  },
  {
   "cell_type": "code",
   "execution_count": 1,
   "metadata": {},
   "outputs": [],
   "source": [
    "import pandas as pd"
   ]
  },
  {
   "cell_type": "markdown",
   "metadata": {},
   "source": [
    "# Memasukan data csv"
   ]
  },
  {
   "cell_type": "code",
   "execution_count": 3,
   "metadata": {},
   "outputs": [],
   "source": [
    "file_path = 'bro_decode/kelompok_4.csv'\n",
    "data = pd.read_csv(file_path)"
   ]
  },
  {
   "cell_type": "code",
   "execution_count": 6,
   "metadata": {},
   "outputs": [
    {
     "name": "stdout",
     "output_type": "stream",
     "text": [
      "                  created_at                                         original\n",
      "0  2024-08-09 13:30:14+00:00  !AIVDM,1,1,,A,17ldpHCP007UaLGtWerrOgvJ24ip,0*46\n",
      "1  2024-08-09 13:30:14+00:00  !AIVDM,1,1,,B,17lobWhP01WU<bctV5Lc5wvB20S7,0*3B\n",
      "2  2024-08-09 13:30:14+00:00  !AIVDM,1,1,,A,17m:0fwP01WU7c=tW1?dNOvB2<5b,0*49\n",
      "3  2024-08-09 13:30:14+00:00  !AIVDM,1,1,,A,19NSAeh02MWS`satO0I1T1FF20S4,0*35\n",
      "4  2024-08-09 13:30:14+00:00  !AIVDM,1,1,,B,17liV9`P1KWTtj3tWC94JOvF2L3c,0*5B\n"
     ]
    }
   ],
   "source": [
    "print(data.head())"
   ]
  },
  {
   "cell_type": "markdown",
   "metadata": {},
   "source": [
    "# Mengambil data dalam 1 kolom"
   ]
  },
  {
   "cell_type": "code",
   "execution_count": 7,
   "metadata": {},
   "outputs": [],
   "source": [
    "data_column = data['original']"
   ]
  },
  {
   "cell_type": "code",
   "execution_count": 8,
   "metadata": {},
   "outputs": [
    {
     "name": "stdout",
     "output_type": "stream",
     "text": [
      "0    !AIVDM,1,1,,A,17ldpHCP007UaLGtWerrOgvJ24ip,0*46\n",
      "1    !AIVDM,1,1,,B,17lobWhP01WU<bctV5Lc5wvB20S7,0*3B\n",
      "2    !AIVDM,1,1,,A,17m:0fwP01WU7c=tW1?dNOvB2<5b,0*49\n",
      "3    !AIVDM,1,1,,A,19NSAeh02MWS`satO0I1T1FF20S4,0*35\n",
      "4    !AIVDM,1,1,,B,17liV9`P1KWTtj3tWC94JOvF2L3c,0*5B\n",
      "Name: original, dtype: object\n"
     ]
    }
   ],
   "source": [
    "print(data_column.head())"
   ]
  },
  {
   "cell_type": "markdown",
   "metadata": {},
   "source": [
    "# Simpan data ke csv"
   ]
  },
  {
   "cell_type": "code",
   "execution_count": 10,
   "metadata": {},
   "outputs": [],
   "source": [
    "data_column.to_csv('kelompok4.csv', index=False)"
   ]
  },
  {
   "cell_type": "code",
   "execution_count": null,
   "metadata": {},
   "outputs": [],
   "source": []
  }
 ],
 "metadata": {
  "kernelspec": {
   "display_name": "Python 3",
   "language": "python",
   "name": "python3"
  },
  "language_info": {
   "codemirror_mode": {
    "name": "ipython",
    "version": 3
   },
   "file_extension": ".py",
   "mimetype": "text/x-python",
   "name": "python",
   "nbconvert_exporter": "python",
   "pygments_lexer": "ipython3",
   "version": "3.12.3"
  }
 },
 "nbformat": 4,
 "nbformat_minor": 2
}
